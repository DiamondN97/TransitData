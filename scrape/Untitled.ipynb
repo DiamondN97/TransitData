{
 "cells": [
  {
   "cell_type": "code",
   "execution_count": 5,
   "metadata": {},
   "outputs": [],
   "source": [
    "from splinter import Browser\n",
    "from splinter.exceptions import ElementDoesNotExist\n",
    "from bs4 import BeautifulSoup\n",
    "import time\n",
    "import pandas as pd\n",
    "import pymongo\n",
    "import datetime as dt"
   ]
  },
  {
   "cell_type": "code",
   "execution_count": 6,
   "metadata": {},
   "outputs": [
    {
     "name": "stdout",
     "output_type": "stream",
     "text": [
      "Pandemic Motors: Europeans snap up old cars to avoid public transport\n",
      "Want a cheap used car to nip around town without running the gauntlet of coronavirus on public transport? Welcome to Pandemic Motors, we have just what you ...\n",
      "Reuters\n",
      "19 hours ago\n"
     ]
    }
   ],
   "source": [
    "\n",
    "executable_path = {'executable_path': 'chromedriver.exe'}\n",
    "browser = Browser('chrome', **executable_path, headless=False)\n",
    "\n",
    "url = 'https://news.google.com/topics/CAAqIQgKIhtDQkFTRGdvSUwyMHZNRGRpYzNrU0FtVnVLQUFQAQ/sections/CAQqEAgAKgcICjCj9vAKMM_ruwIwqaLKBQ?hl=en-US&gl=US&ceid=US%3Aen'\n",
    "browser.visit(url)\n",
    "\n",
    "time.sleep(2)\n",
    "\n",
    "html = browser.html\n",
    "soup = BeautifulSoup(html,'html.parser')\n",
    "url_href = soup.find('div',class_=\"VDXfz\")\n",
    "\n",
    "try:\n",
    "    title = soup.find('h3',class_='ipQwMb ekueJc RD0gLb').text.strip()\n",
    "except: \n",
    "    title = '[No information returned. Click the button again.]'\n",
    "# try:\n",
    "#     url = soup.url_href.a['href']\n",
    "# except: \n",
    "#     url = '[No information returned. Click the button again.]'\n",
    "try:\n",
    "    para = soup.find('div',class_='Da10Tb Rai5ob').text.strip()\n",
    "except:\n",
    "    para = '[No information returned.  Click the button again.]'\n",
    "try:\n",
    "    source = soup.find('a',class_='wEwyrc AVN2gc uQIVzc Sksgp').text.strip()\n",
    "except:\n",
    "    source = '[No information returned.  Click the button again.]'\n",
    "try:\n",
    "    date = soup.find('time',class_='WW6dff uQIVzc Sksgp').text.strip()\n",
    "except:\n",
    "    date = '[No information returned.  Click the button again.]'\n",
    "    \n",
    "print(title)\n",
    "# print(url)\n",
    "print(para)\n",
    "print(source)\n",
    "print(date)\n"
   ]
  },
  {
   "cell_type": "code",
   "execution_count": 3,
   "metadata": {},
   "outputs": [],
   "source": [
    "conn='mongodb://localhost:27017'\n",
    "client = pymongo.MongoClient(conn)\n",
    "db=client.transitDB"
   ]
  },
  {
   "cell_type": "code",
   "execution_count": 9,
   "metadata": {},
   "outputs": [
    {
     "name": "stdout",
     "output_type": "stream",
     "text": [
      "{'news_title': 'Pandemic Motors: Europeans snap up old cars to avoid public transport', 'news_paragraph': 'Want a cheap used car to nip around town without running the gauntlet of coronavirus on public transport? Welcome to Pandemic Motors, we have just what you ...', 'news_source': 'Reuters', 'news_date': '19 hours ago'}\n"
     ]
    }
   ],
   "source": [
    "data = {\n",
    "    'news_title':title,\n",
    "    'news_paragraph':para,\n",
    "    'news_source':source,\n",
    "    'news_date':date\n",
    "}\n",
    "print(data)"
   ]
  },
  {
   "cell_type": "code",
   "execution_count": null,
   "metadata": {},
   "outputs": [],
   "source": []
  }
 ],
 "metadata": {
  "kernelspec": {
   "display_name": "Python 3",
   "language": "python",
   "name": "python3"
  },
  "language_info": {
   "codemirror_mode": {
    "name": "ipython",
    "version": 3
   },
   "file_extension": ".py",
   "mimetype": "text/x-python",
   "name": "python",
   "nbconvert_exporter": "python",
   "pygments_lexer": "ipython3",
   "version": "3.6.12"
  }
 },
 "nbformat": 4,
 "nbformat_minor": 4
}
