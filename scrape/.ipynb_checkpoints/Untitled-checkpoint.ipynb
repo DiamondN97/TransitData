{
 "cells": [
  {
   "cell_type": "code",
   "execution_count": 5,
   "metadata": {},
   "outputs": [],
   "source": [
    "from splinter import Browser\n",
    "from splinter.exceptions import ElementDoesNotExist\n",
    "from bs4 import BeautifulSoup\n",
    "import time\n",
    "import pandas as pd\n",
    "import pymongo\n",
    "import datetime as dt"
   ]
  },
  {
   "cell_type": "code",
   "execution_count": 6,
   "metadata": {},
   "outputs": [
    {
     "name": "stdout",
     "output_type": "stream",
     "text": [
      "Pandemic Motors: Europeans snap up old cars to avoid public transport\n",
      "Want a cheap used car to nip around town without running the gauntlet of coronavirus on public transport? Welcome to Pandemic Motors, we have just what you ...\n",
      "Reuters\n",
      "19 hours ago\n"
     ]
    }
   ],
   "source": [
    "\n",
    "executable_path = {'executable_path': 'chromedriver.exe'}\n",
    "browser = Browser('chrome', **executable_path, headless=False)\n",
    "\n",
    "url = 'https://news.google.com/topics/CAAqIQgKIhtDQkFTRGdvSUwyMHZNRGRpYzNrU0FtVnVLQUFQAQ/sections/CAQqEAgAKgcICjCj9vAKMM_ruwIwqaLKBQ?hl=en-US&gl=US&ceid=US%3Aen'\n",
    "browser.visit(url)\n",
    "\n",
    "time.sleep(2)\n",
    "\n",
    "html = browser.html\n",
    "soup = BeautifulSoup(html,'html.parser')\n",
    "url_href = soup.find('div',class_=\"VDXfz\")\n",
    "\n",
    "try:\n",
    "    title = soup.find('h3',class_='ipQwMb ekueJc RD0gLb').text.strip()\n",
    "except: \n",
    "    title = '[No information returned. Click the button again.]'\n",
    "# try:\n",
    "#     url = soup.url_href.a['href']\n",
    "# except: \n",
    "#     url = '[No information returned. Click the button again.]'\n",
    "try:\n",
    "    para = soup.find('div',class_='Da10Tb Rai5ob').text.strip()\n",
    "except:\n",
    "    para = '[No information returned.  Click the button again.]'\n",
    "try:\n",
    "    source = soup.find('a',class_='wEwyrc AVN2gc uQIVzc Sksgp').text.strip()\n",
    "except:\n",
    "    source = '[No information returned.  Click the button again.]'\n",
    "try:\n",
    "    date = soup.find('time',class_='WW6dff uQIVzc Sksgp').text.strip()\n",
    "except:\n",
    "    date = '[No information returned.  Click the button again.]'\n",
    "    \n",
    "print(title)\n",
    "# print(url)\n",
    "print(para)\n",
    "print(source)\n",
    "print(date)\n"
   ]
  },
  {
   "cell_type": "code",
   "execution_count": 3,
   "metadata": {},
   "outputs": [],
   "source": [
    "conn='mongodb://localhost:27017'\n",
    "client = pymongo.MongoClient(conn)\n",
    "db=client.transitDB"
   ]
  },
  {
   "cell_type": "code",
   "execution_count": 8,
   "metadata": {},
   "outputs": [
    {
     "ename": "NameError",
     "evalue": "name 'descrip' is not defined",
     "output_type": "error",
     "traceback": [
      "\u001b[1;31m---------------------------------------------------------------------------\u001b[0m",
      "\u001b[1;31mNameError\u001b[0m                                 Traceback (most recent call last)",
      "\u001b[1;32m<ipython-input-8-e54c390f3e02>\u001b[0m in \u001b[0;36m<module>\u001b[1;34m\u001b[0m\n\u001b[0;32m      3\u001b[0m     \u001b[1;34m'news_paragraph'\u001b[0m\u001b[1;33m:\u001b[0m\u001b[0mpara\u001b[0m\u001b[1;33m,\u001b[0m\u001b[1;33m\u001b[0m\u001b[1;33m\u001b[0m\u001b[0m\n\u001b[0;32m      4\u001b[0m \u001b[1;31m#     'featured_image': featured_image_url,\u001b[0m\u001b[1;33m\u001b[0m\u001b[1;33m\u001b[0m\u001b[1;33m\u001b[0m\u001b[0m\n\u001b[1;32m----> 5\u001b[1;33m     \u001b[1;34m'featured_image_description'\u001b[0m\u001b[1;33m:\u001b[0m\u001b[0mdescrip\u001b[0m\u001b[1;33m,\u001b[0m\u001b[1;33m\u001b[0m\u001b[1;33m\u001b[0m\u001b[0m\n\u001b[0m\u001b[0;32m      6\u001b[0m     \u001b[1;34m'hemisphere_image_urls'\u001b[0m\u001b[1;33m:\u001b[0m \u001b[0mhemisphere_image_urls_dict\u001b[0m\u001b[1;33m,\u001b[0m\u001b[1;33m\u001b[0m\u001b[1;33m\u001b[0m\u001b[0m\n\u001b[0;32m      7\u001b[0m     \u001b[1;34m'facts'\u001b[0m\u001b[1;33m:\u001b[0m\u001b[0mmars_facts\u001b[0m\u001b[1;33m,\u001b[0m\u001b[1;33m\u001b[0m\u001b[1;33m\u001b[0m\u001b[0m\n",
      "\u001b[1;31mNameError\u001b[0m: name 'descrip' is not defined"
     ]
    }
   ],
   "source": [
    "data = {\n",
    "    'news_title':title,\n",
    "    'news_paragraph':para,\n",
    "    'news_source':source,\n",
    "    'news_date':date\n",
    "}\n",
    "print(data)"
   ]
  },
  {
   "cell_type": "code",
   "execution_count": null,
   "metadata": {},
   "outputs": [],
   "source": []
  }
 ],
 "metadata": {
  "kernelspec": {
   "display_name": "Python 3",
   "language": "python",
   "name": "python3"
  },
  "language_info": {
   "codemirror_mode": {
    "name": "ipython",
    "version": 3
   },
   "file_extension": ".py",
   "mimetype": "text/x-python",
   "name": "python",
   "nbconvert_exporter": "python",
   "pygments_lexer": "ipython3",
   "version": "3.6.12"
  }
 },
 "nbformat": 4,
 "nbformat_minor": 4
}
