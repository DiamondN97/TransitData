{
 "cells": [
  {
   "cell_type": "code",
   "execution_count": 32,
   "metadata": {},
   "outputs": [],
   "source": [
    "from splinter import Browser\n",
    "from splinter.exceptions import ElementDoesNotExist\n",
    "from bs4 import BeautifulSoup\n",
    "import time\n",
    "import pandas as pd\n",
    "import pymongo\n",
    "import datetime as dt"
   ]
  },
  {
   "cell_type": "code",
   "execution_count": 33,
   "metadata": {},
   "outputs": [],
   "source": [
    "conn='mongodb://localhost:27017'\n",
    "client = pymongo.MongoClient(conn)\n",
    "db=client.transitDB"
   ]
  },
  {
   "cell_type": "code",
   "execution_count": 34,
   "metadata": {},
   "outputs": [
    {
     "data": {
      "text/plain": [
       "Database(MongoClient(host=['localhost:27017'], document_class=dict, tz_aware=False, connect=True), 'transitDB')"
      ]
     },
     "execution_count": 34,
     "metadata": {},
     "output_type": "execute_result"
    }
   ],
   "source": [
    "db"
   ]
  },
  {
   "cell_type": "code",
   "execution_count": 35,
   "metadata": {},
   "outputs": [
    {
     "name": "stdout",
     "output_type": "stream",
     "text": [
      "Pandemic Motors: Europeans snap up old cars to avoid public transport\n",
      "Want a cheap used car to nip around town without running the gauntlet of coronavirus on public transport? Welcome to Pandemic Motors, we have just what you ...\n",
      "Reuters\n",
      "22 hours ago\n",
      "https://news.google.com/topics/CAAqIQgKIhtDQkFTRGdvSUwyMHZNRGRpYzNrU0FtVnVLQUFQAQ/sections/CAQqEAgAKgcICjCj9vAKMM_ruwIwqaLKBQ?hl=en-US&gl=US&ceid=US%3Aen\n"
     ]
    }
   ],
   "source": [
    "executable_path = {'executable_path': 'chromedriver.exe'}\n",
    "browser = Browser('chrome', **executable_path, headless=False)\n",
    "\n",
    "google_url = 'https://news.google.com/topics/CAAqIQgKIhtDQkFTRGdvSUwyMHZNRGRpYzNrU0FtVnVLQUFQAQ/sections/CAQqEAgAKgcICjCj9vAKMM_ruwIwqaLKBQ?hl=en-US&gl=US&ceid=US%3Aen'\n",
    "browser.visit(google_url)\n",
    "\n",
    "time.sleep(2)\n",
    "\n",
    "html = browser.html\n",
    "soup = BeautifulSoup(html,'html.parser')\n",
    "\n",
    "try:\n",
    "    google_title = soup.find('h3',class_='ipQwMb ekueJc RD0gLb').text.strip()\n",
    "except: \n",
    "    google_title = '[No information returned. Click the button again.]'\n",
    "try:\n",
    "    google_para = soup.find('div',class_='Da10Tb Rai5ob').text.strip()\n",
    "except:\n",
    "    google_para = '[No information returned.  Click the button again.]'\n",
    "try:\n",
    "    google_source = soup.find('a',class_='wEwyrc AVN2gc uQIVzc Sksgp').text.strip()\n",
    "except:\n",
    "    google_source = '[No information returned.  Click the button again.]'\n",
    "try:\n",
    "    google_date = soup.find('time',class_='WW6dff uQIVzc Sksgp').text.strip()\n",
    "except:\n",
    "    google_date = '[No information returned.  Click the button again.]'\n",
    "    \n",
    "print(google_title)\n",
    "print(google_para)\n",
    "print(google_source)\n",
    "print(google_date)\n",
    "print(url)\n"
   ]
  },
  {
   "cell_type": "code",
   "execution_count": 36,
   "metadata": {},
   "outputs": [
    {
     "name": "stdout",
     "output_type": "stream",
     "text": [
      "FTA awards funds to six projects through Real-Time Asset Management Program\n",
      "https://www.masstransitmag.com/\n",
      "FTA says the goal of the program is to enhance asset management of infrastructure and safety by deploying innovative technologies.\n",
      "Mass Transit Magazine\n",
      "Nov 30th, 2020\n"
     ]
    }
   ],
   "source": [
    "executable_path = {'executable_path': 'chromedriver.exe'}\n",
    "browser = Browser('chrome', **executable_path, headless=False)\n",
    "\n",
    "transitmag_url = 'https://www.masstransitmag.com/'\n",
    "browser.visit(transitmag_url)\n",
    "transitmag_source = 'Mass Transit Magazine'\n",
    "\n",
    "time.sleep(2)\n",
    "\n",
    "html = browser.html\n",
    "soup = BeautifulSoup(html,'html.parser')\n",
    "\n",
    "try:\n",
    "    transitmag_title = soup.find('h5',class_='node__title').text.strip()\n",
    "except: \n",
    "    transitmag_title = '[No information returned. Click the button again.]'\n",
    "try:\n",
    "    transitmag_para = soup.find('div',class_='node__text node__text--teaser').text.strip()\n",
    "except:\n",
    "    transitmag_para = '[No information returned.  Click the button again.]'\n",
    "try:\n",
    "    transitmag_date = soup.find('div',class_='node__footer-right').text.strip()\n",
    "except:\n",
    "    transitmag_date = '[No information returned.  Click the button again.]'\n",
    "    \n",
    "print(transitmag_title)\n",
    "print(transitmag_url)\n",
    "print(transitmag_para)\n",
    "print(transitmag_source)\n",
    "print(transitmag_date)"
   ]
  },
  {
   "cell_type": "code",
   "execution_count": 38,
   "metadata": {},
   "outputs": [
    {
     "name": "stdout",
     "output_type": "stream",
     "text": [
      "{'google_news_title': 'Pandemic Motors: Europeans snap up old cars to avoid public transport', 'google_news_paragraph': 'Want a cheap used car to nip around town without running the gauntlet of coronavirus on public transport? Welcome to Pandemic Motors, we have just what you ...', 'google_news_source': 'Reuters', 'google_news_date': '22 hours ago', 'google_url': 'https://news.google.com/topics/CAAqIQgKIhtDQkFTRGdvSUwyMHZNRGRpYzNrU0FtVnVLQUFQAQ/sections/CAQqEAgAKgcICjCj9vAKMM_ruwIwqaLKBQ?hl=en-US&gl=US&ceid=US%3Aen', 'transitmag_title': 'FTA awards funds to six projects through Real-Time Asset Management Program', 'transitmag_paragraph': 'FTA says the goal of the program is to enhance asset management of infrastructure and safety by deploying innovative technologies.', 'transitmag_source': 'Mass Transit Magazine', 'transitmag_date': 'Nov 30th, 2020', 'transitmag_url': 'https://www.masstransitmag.com/'}\n"
     ]
    }
   ],
   "source": [
    "data = {\n",
    "    'google_news_title':google_title,\n",
    "    'google_news_paragraph':google_para,\n",
    "    'google_news_source':google_source,\n",
    "    'google_news_date':google_date,\n",
    "    'google_url':google_url,\n",
    "    'transitmag_title':transitmag_title,\n",
    "    'transitmag_paragraph':transitmag_para,\n",
    "    'transitmag_source':transitmag_source,\n",
    "    'transitmag_date':transitmag_date,\n",
    "    'transitmag_url':transitmag_url\n",
    "}\n",
    "print(data)\n"
   ]
  },
  {
   "cell_type": "code",
   "execution_count": null,
   "metadata": {},
   "outputs": [],
   "source": []
  }
 ],
 "metadata": {
  "kernelspec": {
   "display_name": "Python 3",
   "language": "python",
   "name": "python3"
  },
  "language_info": {
   "codemirror_mode": {
    "name": "ipython",
    "version": 3
   },
   "file_extension": ".py",
   "mimetype": "text/x-python",
   "name": "python",
   "nbconvert_exporter": "python",
   "pygments_lexer": "ipython3",
   "version": "3.6.12"
  }
 },
 "nbformat": 4,
 "nbformat_minor": 4
}
