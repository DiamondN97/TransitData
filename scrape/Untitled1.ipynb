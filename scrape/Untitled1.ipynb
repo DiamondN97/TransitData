{
 "cells": [
  {
   "cell_type": "code",
   "execution_count": null,
   "metadata": {},
   "outputs": [],
   "source": [
    "@route ('/reference')\n",
    "def reference(): \n",
    "    response=requests.get()\n",
    "    soup=bs4.soup(response.content)\n",
    "    headline=soup.find_by_class('')[0]\n",
    "    headline\n",
    "    return (templates, headline=headline)\n",
    "\n",
    "\n",
    "##{headline}"
   ]
  }
 ],
 "metadata": {
  "kernelspec": {
   "display_name": "Python 3",
   "language": "python",
   "name": "python3"
  },
  "language_info": {
   "codemirror_mode": {
    "name": "ipython",
    "version": 3
   },
   "file_extension": ".py",
   "mimetype": "text/x-python",
   "name": "python",
   "nbconvert_exporter": "python",
   "pygments_lexer": "ipython3",
   "version": "3.6.12"
  }
 },
 "nbformat": 4,
 "nbformat_minor": 4
}
