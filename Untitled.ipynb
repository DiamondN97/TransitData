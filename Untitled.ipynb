{
 "cells": [
  {
   "cell_type": "code",
   "execution_count": 20,
   "metadata": {},
   "outputs": [],
   "source": [
    "from splinter import Browser\n",
    "from splinter.exceptions import ElementDoesNotExist\n",
    "from bs4 import BeautifulSoup\n",
    "import time\n",
    "import pandas as pd\n",
    "import pymongo\n",
    "import datetime as dt"
   ]
  },
  {
   "cell_type": "code",
   "execution_count": 36,
   "metadata": {},
   "outputs": [
    {
     "name": "stdout",
     "output_type": "stream",
     "text": [
      "Apple Maps public transit navigation rollout begins in Austria\n",
      "Apple Maps public transit navigation continues its leisurely global rollout, with the ability to plan journeys using trains now available in parts ...\n",
      "9to5Mac\n",
      "14 hours ago\n"
     ]
    }
   ],
   "source": [
    "\n",
    "executable_path = {'executable_path': 'chromedriver.exe'}\n",
    "browser = Browser('chrome', **executable_path, headless=False)\n",
    "\n",
    "url = 'https://news.google.com/topics/CAAqIQgKIhtDQkFTRGdvSUwyMHZNRGRpYzNrU0FtVnVLQUFQAQ/sections/CAQqEAgAKgcICjCj9vAKMM_ruwIwqaLKBQ?hl=en-US&gl=US&ceid=US%3Aen'\n",
    "browser.visit(url)\n",
    "\n",
    "time.sleep(2)\n",
    "\n",
    "html = browser.html\n",
    "soup = BeautifulSoup(html,'html.parser')\n",
    "url_href = soup.find('div',class_=\"VDXfz\")\n",
    "\n",
    "try:\n",
    "    title = soup.find('h3',class_='ipQwMb ekueJc RD0gLb').text.strip()\n",
    "except: \n",
    "    title = '[No information returned. Click the button again.]'\n",
    "# try:\n",
    "#     url = soup.url_href.a['href']\n",
    "# except: \n",
    "#     url = '[No information returned. Click the button again.]'\n",
    "try:\n",
    "    para = soup.find('div',class_='Da10Tb Rai5ob').text.strip()\n",
    "except:\n",
    "    para = '[No information returned.  Click the button again.]'\n",
    "try:\n",
    "    source = soup.find('a',class_='wEwyrc AVN2gc uQIVzc Sksgp').text.strip()\n",
    "except:\n",
    "    source = '[No information returned.  Click the button again.]'\n",
    "try:\n",
    "    date = soup.find('time',class_='WW6dff uQIVzc Sksgp').text.strip()\n",
    "except:\n",
    "    date = '[No information returned.  Click the button again.]'\n",
    "    \n",
    "print(title)\n",
    "# print(url)\n",
    "print(para)\n",
    "print(source)\n",
    "print(date)\n"
   ]
  },
  {
   "cell_type": "code",
   "execution_count": 22,
   "metadata": {},
   "outputs": [],
   "source": [
    "conn='mongodb://localhost:27017'\n",
    "client = pymongo.MongoClient(conn)\n",
    "db=client.transitDB"
   ]
  },
  {
   "cell_type": "code",
   "execution_count": null,
   "metadata": {},
   "outputs": [],
   "source": [
    "data = {\n",
    "    'news_title':title,\n",
    "    'news_paragraph':para,\n",
    "    'featured_image': featured_image_url,\n",
    "    'featured_image_description':descrip,\n",
    "    'hemisphere_image_urls': hemisphere_image_urls_dict,\n",
    "    'facts':mars_facts,\n",
    "    'last_modified':dt.datetime.now()\n",
    "}\n",
    "print(data)"
   ]
  }
 ],
 "metadata": {
  "kernelspec": {
   "display_name": "Python 3",
   "language": "python",
   "name": "python3"
  },
  "language_info": {
   "codemirror_mode": {
    "name": "ipython",
    "version": 3
   },
   "file_extension": ".py",
   "mimetype": "text/x-python",
   "name": "python",
   "nbconvert_exporter": "python",
   "pygments_lexer": "ipython3",
   "version": "3.6.12"
  }
 },
 "nbformat": 4,
 "nbformat_minor": 4
}
